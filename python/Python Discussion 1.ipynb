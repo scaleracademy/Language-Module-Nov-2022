{
 "cells": [
  {
   "cell_type": "code",
   "execution_count": 2,
   "id": "fe3f343d",
   "metadata": {},
   "outputs": [
    {
     "data": {
      "text/plain": [
       "'\\nQuestion 1 - \\nCan you tell me the output of the following pyhton code - \\n\\na = -(100 % 30) // 3\\nprint(a)\\n'"
      ]
     },
     "execution_count": 2,
     "metadata": {},
     "output_type": "execute_result"
    }
   ],
   "source": [
    "'''\n",
    "Question 1 - \n",
    "Can you tell me the output of the following pyhton code - \n",
    "\n",
    "a = -(100 % 30) // 3\n",
    "print(a)\n",
    "'''"
   ]
  },
  {
   "cell_type": "code",
   "execution_count": 3,
   "id": "01be65b6",
   "metadata": {},
   "outputs": [
    {
     "name": "stdout",
     "output_type": "stream",
     "text": [
      "-4\n"
     ]
    }
   ],
   "source": [
    "a = -(100 % 30) // 3\n",
    "print(a)"
   ]
  },
  {
   "cell_type": "code",
   "execution_count": 4,
   "id": "757b5d4a",
   "metadata": {},
   "outputs": [
    {
     "data": {
      "text/plain": [
       "'\\nQuestion 2 - \\nHow can I merge two dictionaries in python?\\n\\nExample ->\\nA = {\\n    \"a\" : 1,\\n    \"b\" : 2,\\n    \"c\" : 3\\n}\\n\\nB = {\\n    \"b\" : 0,\\n    \"d\" : 10\\n}\\n\\nResult = {\\n    \"a\" : 1,\\n    \"b\" : 0,\\n    \"c\" : 3,\\n    \"d\" : 10\\n}\\n'"
      ]
     },
     "execution_count": 4,
     "metadata": {},
     "output_type": "execute_result"
    }
   ],
   "source": [
    "'''\n",
    "Question 2 - \n",
    "How can I merge two dictionaries in python?\n",
    "\n",
    "Example ->\n",
    "A = {\n",
    "    \"a\" : 1,\n",
    "    \"b\" : 2,\n",
    "    \"c\" : 3\n",
    "}\n",
    "\n",
    "B = {\n",
    "    \"b\" : 0,\n",
    "    \"d\" : 10\n",
    "}\n",
    "\n",
    "Result = {\n",
    "    \"a\" : 1,\n",
    "    \"b\" : 0,\n",
    "    \"c\" : 3,\n",
    "    \"d\" : 10\n",
    "}\n",
    "'''"
   ]
  },
  {
   "cell_type": "code",
   "execution_count": 11,
   "id": "df9ce072",
   "metadata": {},
   "outputs": [],
   "source": [
    "A = {\n",
    "    \"a\" : 1,\n",
    "    \"b\" : 2,\n",
    "    \"c\" : 3\n",
    "}\n",
    "\n",
    "B = {\n",
    "    \"b\" : 0,\n",
    "    \"d\" : 10\n",
    "}"
   ]
  },
  {
   "cell_type": "code",
   "execution_count": 9,
   "id": "0265c017",
   "metadata": {},
   "outputs": [],
   "source": [
    "# Method 1\n",
    "A.update(B)"
   ]
  },
  {
   "cell_type": "code",
   "execution_count": 10,
   "id": "e0eb228a",
   "metadata": {},
   "outputs": [
    {
     "data": {
      "text/plain": [
       "{'a': 1, 'b': 0, 'c': 3, 'd': 10}"
      ]
     },
     "execution_count": 10,
     "metadata": {},
     "output_type": "execute_result"
    }
   ],
   "source": [
    "A"
   ]
  },
  {
   "cell_type": "code",
   "execution_count": 13,
   "id": "0071122b",
   "metadata": {},
   "outputs": [],
   "source": [
    "# Method 2\n",
    "Result = A | B "
   ]
  },
  {
   "cell_type": "code",
   "execution_count": 14,
   "id": "e1147fd3",
   "metadata": {},
   "outputs": [
    {
     "data": {
      "text/plain": [
       "{'a': 1, 'b': 0, 'c': 3, 'd': 10}"
      ]
     },
     "execution_count": 14,
     "metadata": {},
     "output_type": "execute_result"
    }
   ],
   "source": [
    "Result"
   ]
  },
  {
   "cell_type": "code",
   "execution_count": 16,
   "id": "ba50ee35",
   "metadata": {},
   "outputs": [],
   "source": [
    "# Method 3\n",
    "Result = { **A, **B }"
   ]
  },
  {
   "cell_type": "code",
   "execution_count": 17,
   "id": "b7ad58d7",
   "metadata": {},
   "outputs": [
    {
     "data": {
      "text/plain": [
       "{'a': 1, 'b': 0, 'c': 3, 'd': 10}"
      ]
     },
     "execution_count": 17,
     "metadata": {},
     "output_type": "execute_result"
    }
   ],
   "source": [
    "Result"
   ]
  },
  {
   "cell_type": "code",
   "execution_count": 18,
   "id": "f19c8411",
   "metadata": {},
   "outputs": [
    {
     "data": {
      "text/plain": [
       "'\\nQuestion 3 - \\n1. Take a string as input.\\n2. Convert this string to lower case without using any inbuild string methods.\\n'"
      ]
     },
     "execution_count": 18,
     "metadata": {},
     "output_type": "execute_result"
    }
   ],
   "source": [
    "'''\n",
    "Question 3 - \n",
    "1. Take a string as input.\n",
    "2. Convert this string to lower case without using any inbuild string methods.\n",
    "'''"
   ]
  },
  {
   "cell_type": "code",
   "execution_count": 19,
   "id": "b159ecef",
   "metadata": {},
   "outputs": [],
   "source": [
    "a = \"THISGhdgsjdfhjja\""
   ]
  },
  {
   "cell_type": "code",
   "execution_count": 20,
   "id": "51ad11b7",
   "metadata": {},
   "outputs": [
    {
     "data": {
      "text/plain": [
       "'thisghdgsjdfhjja'"
      ]
     },
     "execution_count": 20,
     "metadata": {},
     "output_type": "execute_result"
    }
   ],
   "source": [
    "a.lower()"
   ]
  },
  {
   "cell_type": "code",
   "execution_count": 21,
   "id": "d94d0aac",
   "metadata": {},
   "outputs": [
    {
     "data": {
      "text/plain": [
       "97"
      ]
     },
     "execution_count": 21,
     "metadata": {},
     "output_type": "execute_result"
    }
   ],
   "source": [
    "ord(\"a\")"
   ]
  },
  {
   "cell_type": "code",
   "execution_count": 23,
   "id": "c7f659f4",
   "metadata": {},
   "outputs": [
    {
     "data": {
      "text/plain": [
       "'a'"
      ]
     },
     "execution_count": 23,
     "metadata": {},
     "output_type": "execute_result"
    }
   ],
   "source": [
    "chr(97)"
   ]
  },
  {
   "cell_type": "code",
   "execution_count": 24,
   "id": "d8136b54",
   "metadata": {},
   "outputs": [
    {
     "data": {
      "text/plain": [
       "65"
      ]
     },
     "execution_count": 24,
     "metadata": {},
     "output_type": "execute_result"
    }
   ],
   "source": [
    "ord(\"A\")"
   ]
  },
  {
   "cell_type": "code",
   "execution_count": 25,
   "id": "116f933b",
   "metadata": {},
   "outputs": [
    {
     "data": {
      "text/plain": [
       "90"
      ]
     },
     "execution_count": 25,
     "metadata": {},
     "output_type": "execute_result"
    }
   ],
   "source": [
    "ord(\"Z\")"
   ]
  },
  {
   "cell_type": "code",
   "execution_count": 35,
   "id": "00f17a92",
   "metadata": {},
   "outputs": [],
   "source": [
    "def custom_lower(a): # correct approach\n",
    "    result = \"\"\n",
    "    \n",
    "    for i in a:\n",
    "        if ord(i) >= 65 and ord(i) <= 90:\n",
    "            result += chr(ord(i) + 32)\n",
    "        else:\n",
    "            result += i\n",
    "    \n",
    "    return result"
   ]
  },
  {
   "cell_type": "code",
   "execution_count": 31,
   "id": "9f30d56e",
   "metadata": {},
   "outputs": [
    {
     "data": {
      "text/plain": [
       "'this is a weird string!!!@'"
      ]
     },
     "execution_count": 31,
     "metadata": {},
     "output_type": "execute_result"
    }
   ],
   "source": [
    "custom_lower(\"ThiS iS a WEIRD stRInG!!!@\")"
   ]
  },
  {
   "cell_type": "code",
   "execution_count": 34,
   "id": "d2dc4e2a",
   "metadata": {},
   "outputs": [],
   "source": [
    "def custom_lower(a): # incorrect approach\n",
    "    result = \"\"\n",
    "    \n",
    "    for i in a:\n",
    "        result += chr(ord(i) + 32)\n",
    "    \n",
    "    return result"
   ]
  },
  {
   "cell_type": "code",
   "execution_count": 33,
   "id": "abd6f514",
   "metadata": {},
   "outputs": [
    {
     "data": {
      "text/plain": [
       "'t\\x88\\x89s@\\x89s@\\x81@weird@\\x93\\x94ri\\x8egAAA`'"
      ]
     },
     "execution_count": 33,
     "metadata": {},
     "output_type": "execute_result"
    }
   ],
   "source": [
    "custom_lower(\"ThiS iS a WEIRD stRInG!!!@\")"
   ]
  },
  {
   "cell_type": "code",
   "execution_count": 36,
   "id": "499e35bd",
   "metadata": {},
   "outputs": [
    {
     "data": {
      "text/plain": [
       "'\\nQuestion 4 - \\nCan you tell me if the following implementation of a function is correct?\\n\\ndef foo(a, b = 6, c, d):\\n    return a + b + c + d\\n'"
      ]
     },
     "execution_count": 36,
     "metadata": {},
     "output_type": "execute_result"
    }
   ],
   "source": [
    "'''\n",
    "Question 4 - \n",
    "Can you tell me if the following implementation of a function is correct?\n",
    "\n",
    "def foo(a, b = 6, c, d):\n",
    "    return a + b + c + d\n",
    "'''"
   ]
  },
  {
   "cell_type": "code",
   "execution_count": 37,
   "id": "616ca1cf",
   "metadata": {},
   "outputs": [
    {
     "ename": "SyntaxError",
     "evalue": "non-default argument follows default argument (28185372.py, line 1)",
     "output_type": "error",
     "traceback": [
      "\u001b[0;36m  File \u001b[0;32m\"/var/folders/nn/c52y0d3j0gq59dpsswchkt2r0000gn/T/ipykernel_23963/28185372.py\"\u001b[0;36m, line \u001b[0;32m1\u001b[0m\n\u001b[0;31m    def foo(a, b = 6, c, d):\u001b[0m\n\u001b[0m                         ^\u001b[0m\n\u001b[0;31mSyntaxError\u001b[0m\u001b[0;31m:\u001b[0m non-default argument follows default argument\n"
     ]
    }
   ],
   "source": [
    "def foo(a, b = 6, c, d):\n",
    "    return a + b + c + d"
   ]
  },
  {
   "cell_type": "code",
   "execution_count": 38,
   "id": "4950e2f3",
   "metadata": {},
   "outputs": [],
   "source": [
    "def foo(a, b = 5):\n",
    "    return a+b"
   ]
  },
  {
   "cell_type": "code",
   "execution_count": 40,
   "id": "6c149c96",
   "metadata": {},
   "outputs": [
    {
     "data": {
      "text/plain": [
       "13"
      ]
     },
     "execution_count": 40,
     "metadata": {},
     "output_type": "execute_result"
    }
   ],
   "source": [
    "foo(3, 10)"
   ]
  },
  {
   "cell_type": "code",
   "execution_count": 41,
   "id": "1973c023",
   "metadata": {},
   "outputs": [],
   "source": [
    "def foo(a, c, d, b = 6):\n",
    "    return a + b + c + d"
   ]
  },
  {
   "cell_type": "code",
   "execution_count": 42,
   "id": "ce4a9e42",
   "metadata": {},
   "outputs": [],
   "source": [
    "def foo(a, b = 6, c = 0, d = 0):\n",
    "    return a + b + c + d"
   ]
  },
  {
   "cell_type": "code",
   "execution_count": 43,
   "id": "e792c008",
   "metadata": {},
   "outputs": [
    {
     "ename": "SyntaxError",
     "evalue": "invalid syntax (2052874863.py, line 1)",
     "output_type": "error",
     "traceback": [
      "\u001b[0;36m  File \u001b[0;32m\"/var/folders/nn/c52y0d3j0gq59dpsswchkt2r0000gn/T/ipykernel_23963/2052874863.py\"\u001b[0;36m, line \u001b[0;32m1\u001b[0m\n\u001b[0;31m    def foo(4,5,6):\u001b[0m\n\u001b[0m            ^\u001b[0m\n\u001b[0;31mSyntaxError\u001b[0m\u001b[0;31m:\u001b[0m invalid syntax\n"
     ]
    }
   ],
   "source": [
    "def foo(4,5,6):\n",
    "    print(\"what?\")"
   ]
  },
  {
   "cell_type": "code",
   "execution_count": 44,
   "id": "16173fb2",
   "metadata": {},
   "outputs": [
    {
     "data": {
      "text/plain": [
       "'\\nQuestion 5 - \\n1. Take a string as input.\\n2. Print the number of unique characters present in that string.\\n'"
      ]
     },
     "execution_count": 44,
     "metadata": {},
     "output_type": "execute_result"
    }
   ],
   "source": [
    "'''\n",
    "Question 5 - \n",
    "1. Take a string as input.\n",
    "2. Print the number of unique characters present in that string.\n",
    "'''"
   ]
  },
  {
   "cell_type": "code",
   "execution_count": 45,
   "id": "f7dab34e",
   "metadata": {},
   "outputs": [],
   "source": [
    "a = \"ssssddddffffggggabc\""
   ]
  },
  {
   "cell_type": "code",
   "execution_count": 47,
   "id": "b9d58ad0",
   "metadata": {},
   "outputs": [
    {
     "data": {
      "text/plain": [
       "7"
      ]
     },
     "execution_count": 47,
     "metadata": {},
     "output_type": "execute_result"
    }
   ],
   "source": [
    "len(set(a))"
   ]
  },
  {
   "cell_type": "code",
   "execution_count": 48,
   "id": "da21e5f7",
   "metadata": {},
   "outputs": [
    {
     "data": {
      "text/plain": [
       "'\\nQuestion 6 - \\n1. You will receive a string as input.\\n2. Check whether that string contains a binary number or not.\\n\\nExample ->\\n1. \"101010101111011\" -> Binary\\n2. \"169100101022111\" -> Not Binary\\n'"
      ]
     },
     "execution_count": 48,
     "metadata": {},
     "output_type": "execute_result"
    }
   ],
   "source": [
    "'''\n",
    "Question 6 - \n",
    "1. You will receive a string as input.\n",
    "2. Check whether that string contains a binary number or not.\n",
    "\n",
    "Example ->\n",
    "1. \"101010101111011\" -> Binary\n",
    "2. \"169100101022111\" -> Not Binary\n",
    "'''"
   ]
  },
  {
   "cell_type": "code",
   "execution_count": 70,
   "id": "d9631d2f",
   "metadata": {},
   "outputs": [],
   "source": [
    "def check_binary(a):\n",
    "    characters = set(a)\n",
    "    \n",
    "    if len(a) == 0:\n",
    "        return \"Incorrect Input\"\n",
    "\n",
    "    if len(characters) > 2:\n",
    "        return \"Not Binary\"\n",
    "        \n",
    "    if (len(characters) == 2 and characters == {\"0\",\"1\"}) or (len(characters) == 1 and (\"1\" in characters or \"0\" in characters)):\n",
    "        return \"Binary\"\n",
    "    else:\n",
    "        return \"Not Binary\"\n",
    "        "
   ]
  },
  {
   "cell_type": "code",
   "execution_count": 71,
   "id": "97ac7903",
   "metadata": {},
   "outputs": [
    {
     "data": {
      "text/plain": [
       "'Incorrect Input'"
      ]
     },
     "execution_count": 71,
     "metadata": {},
     "output_type": "execute_result"
    }
   ],
   "source": [
    "check_binary(\"\")"
   ]
  },
  {
   "cell_type": "code",
   "execution_count": 72,
   "id": "0049a952",
   "metadata": {},
   "outputs": [
    {
     "data": {
      "text/plain": [
       "'Binary'"
      ]
     },
     "execution_count": 72,
     "metadata": {},
     "output_type": "execute_result"
    }
   ],
   "source": [
    "check_binary(\"1\")"
   ]
  },
  {
   "cell_type": "code",
   "execution_count": 73,
   "id": "f10d14e9",
   "metadata": {},
   "outputs": [
    {
     "data": {
      "text/plain": [
       "'Binary'"
      ]
     },
     "execution_count": 73,
     "metadata": {},
     "output_type": "execute_result"
    }
   ],
   "source": [
    "check_binary(\"101\")"
   ]
  },
  {
   "cell_type": "code",
   "execution_count": 74,
   "id": "f76c393f",
   "metadata": {},
   "outputs": [
    {
     "data": {
      "text/plain": [
       "'Not Binary'"
      ]
     },
     "execution_count": 74,
     "metadata": {},
     "output_type": "execute_result"
    }
   ],
   "source": [
    "check_binary(\"101a\")"
   ]
  },
  {
   "cell_type": "code",
   "execution_count": 75,
   "id": "506365cc",
   "metadata": {},
   "outputs": [
    {
     "data": {
      "text/plain": [
       "'Not Binary'"
      ]
     },
     "execution_count": 75,
     "metadata": {},
     "output_type": "execute_result"
    }
   ],
   "source": [
    "check_binary(\"1a\")"
   ]
  },
  {
   "cell_type": "code",
   "execution_count": 57,
   "id": "a7684769",
   "metadata": {},
   "outputs": [
    {
     "data": {
      "text/plain": [
       "{'1', 'a'}"
      ]
     },
     "execution_count": 57,
     "metadata": {},
     "output_type": "execute_result"
    }
   ],
   "source": [
    "{'1', 'a'} # this will cause problems"
   ]
  },
  {
   "cell_type": "code",
   "execution_count": 67,
   "id": "ed5b86a7",
   "metadata": {},
   "outputs": [],
   "source": [
    "def check_binary_2(a):\n",
    "    characters = set(a)\n",
    "    \n",
    "    if len(a) == 0:\n",
    "        return \"Incorrect Input\"\n",
    "\n",
    "    if len(characters) > 2:\n",
    "        return \"Not Binary\"\n",
    "        \n",
    "    sum_set = 0\n",
    "    for i in characters:\n",
    "        sum_set += int(i)\n",
    "    \n",
    "    if sum_set <= 1:\n",
    "        return \"Binary\"\n",
    "    else:\n",
    "        return \"Not Binary\""
   ]
  },
  {
   "cell_type": "code",
   "execution_count": 69,
   "id": "548fbd13",
   "metadata": {},
   "outputs": [
    {
     "data": {
      "text/plain": [
       "'Binary'"
      ]
     },
     "execution_count": 69,
     "metadata": {},
     "output_type": "execute_result"
    }
   ],
   "source": [
    "check_binary_2(\"10101\")"
   ]
  },
  {
   "cell_type": "code",
   "execution_count": 68,
   "id": "e1aa7527",
   "metadata": {},
   "outputs": [
    {
     "ename": "ValueError",
     "evalue": "invalid literal for int() with base 10: 'a'",
     "output_type": "error",
     "traceback": [
      "\u001b[0;31m---------------------------------------------------------------------------\u001b[0m",
      "\u001b[0;31mValueError\u001b[0m                                Traceback (most recent call last)",
      "\u001b[0;32m/var/folders/nn/c52y0d3j0gq59dpsswchkt2r0000gn/T/ipykernel_23963/3709571364.py\u001b[0m in \u001b[0;36m<module>\u001b[0;34m\u001b[0m\n\u001b[0;32m----> 1\u001b[0;31m \u001b[0mcheck_binary_2\u001b[0m\u001b[0;34m(\u001b[0m\u001b[0;34m\"1a\"\u001b[0m\u001b[0;34m)\u001b[0m\u001b[0;34m\u001b[0m\u001b[0;34m\u001b[0m\u001b[0m\n\u001b[0m",
      "\u001b[0;32m/var/folders/nn/c52y0d3j0gq59dpsswchkt2r0000gn/T/ipykernel_23963/4209322373.py\u001b[0m in \u001b[0;36mcheck_binary_2\u001b[0;34m(a)\u001b[0m\n\u001b[1;32m     10\u001b[0m     \u001b[0msum_set\u001b[0m \u001b[0;34m=\u001b[0m \u001b[0;36m0\u001b[0m\u001b[0;34m\u001b[0m\u001b[0;34m\u001b[0m\u001b[0m\n\u001b[1;32m     11\u001b[0m     \u001b[0;32mfor\u001b[0m \u001b[0mi\u001b[0m \u001b[0;32min\u001b[0m \u001b[0mcharacters\u001b[0m\u001b[0;34m:\u001b[0m\u001b[0;34m\u001b[0m\u001b[0;34m\u001b[0m\u001b[0m\n\u001b[0;32m---> 12\u001b[0;31m         \u001b[0msum_set\u001b[0m \u001b[0;34m+=\u001b[0m \u001b[0mint\u001b[0m\u001b[0;34m(\u001b[0m\u001b[0mi\u001b[0m\u001b[0;34m)\u001b[0m\u001b[0;34m\u001b[0m\u001b[0;34m\u001b[0m\u001b[0m\n\u001b[0m\u001b[1;32m     13\u001b[0m \u001b[0;34m\u001b[0m\u001b[0m\n\u001b[1;32m     14\u001b[0m     \u001b[0;32mif\u001b[0m \u001b[0msum_set\u001b[0m \u001b[0;34m<=\u001b[0m \u001b[0;36m1\u001b[0m\u001b[0;34m:\u001b[0m\u001b[0;34m\u001b[0m\u001b[0;34m\u001b[0m\u001b[0m\n",
      "\u001b[0;31mValueError\u001b[0m: invalid literal for int() with base 10: 'a'"
     ]
    }
   ],
   "source": [
    "check_binary_2(\"1a\")"
   ]
  },
  {
   "cell_type": "code",
   "execution_count": 65,
   "id": "342a3b75",
   "metadata": {},
   "outputs": [
    {
     "data": {
      "text/plain": [
       "{'1', 'a'}"
      ]
     },
     "execution_count": 65,
     "metadata": {},
     "output_type": "execute_result"
    }
   ],
   "source": [
    "set(\"1a\")"
   ]
  },
  {
   "cell_type": "code",
   "execution_count": 63,
   "id": "cd3f779d",
   "metadata": {},
   "outputs": [
    {
     "ename": "ValueError",
     "evalue": "invalid literal for int() with base 10: 'a'",
     "output_type": "error",
     "traceback": [
      "\u001b[0;31m---------------------------------------------------------------------------\u001b[0m",
      "\u001b[0;31mValueError\u001b[0m                                Traceback (most recent call last)",
      "\u001b[0;32m/var/folders/nn/c52y0d3j0gq59dpsswchkt2r0000gn/T/ipykernel_23963/4272787301.py\u001b[0m in \u001b[0;36m<module>\u001b[0;34m\u001b[0m\n\u001b[1;32m      1\u001b[0m \u001b[0msum_set\u001b[0m \u001b[0;34m=\u001b[0m \u001b[0;36m0\u001b[0m\u001b[0;34m\u001b[0m\u001b[0;34m\u001b[0m\u001b[0m\n\u001b[1;32m      2\u001b[0m \u001b[0;32mfor\u001b[0m \u001b[0mi\u001b[0m \u001b[0;32min\u001b[0m \u001b[0mset\u001b[0m\u001b[0;34m(\u001b[0m\u001b[0;34m\"1a\"\u001b[0m\u001b[0;34m)\u001b[0m\u001b[0;34m:\u001b[0m\u001b[0;34m\u001b[0m\u001b[0;34m\u001b[0m\u001b[0m\n\u001b[0;32m----> 3\u001b[0;31m     \u001b[0msum_set\u001b[0m \u001b[0;34m+=\u001b[0m \u001b[0mint\u001b[0m\u001b[0;34m(\u001b[0m\u001b[0mi\u001b[0m\u001b[0;34m)\u001b[0m\u001b[0;34m\u001b[0m\u001b[0;34m\u001b[0m\u001b[0m\n\u001b[0m",
      "\u001b[0;31mValueError\u001b[0m: invalid literal for int() with base 10: 'a'"
     ]
    }
   ],
   "source": [
    "sum_set = 0\n",
    "for i in set(\"1a\"):\n",
    "    sum_set += int(i)"
   ]
  },
  {
   "cell_type": "code",
   "execution_count": 76,
   "id": "abaf2d90",
   "metadata": {},
   "outputs": [
    {
     "data": {
      "text/plain": [
       "'\\nQuestion 7 -\\nWrite a program to flatten a list in python.\\n\\nINPUT -> [1,2,3,[4,5],[[[[[5,6,7],[8,9,0]]]]]]\\nOUTPUT -> [1,2,3,4,5,6,7,8,9,0]\\n'"
      ]
     },
     "execution_count": 76,
     "metadata": {},
     "output_type": "execute_result"
    }
   ],
   "source": [
    "'''\n",
    "Question 7 -\n",
    "Write a program to flatten a list in python.\n",
    "\n",
    "INPUT -> [1,2,3,[4,5],[[[[[5,6,7],[8,9,0]]]]]]\n",
    "OUTPUT -> [1,2,3,4,5,6,7,8,9,0]\n",
    "'''"
   ]
  },
  {
   "cell_type": "code",
   "execution_count": 77,
   "id": "080ceecd",
   "metadata": {},
   "outputs": [],
   "source": [
    "def flatten_list(a):\n",
    "    result = []\n",
    "    \n",
    "    while a:\n",
    "        element = a.pop()\n",
    "        \n",
    "        if type(element) == list:\n",
    "            a.extend(element)\n",
    "        else:\n",
    "            result.append(element)\n",
    "            \n",
    "    return result[::-1]"
   ]
  },
  {
   "cell_type": "code",
   "execution_count": 80,
   "id": "3264b9e4",
   "metadata": {},
   "outputs": [],
   "source": [
    "a = [1,2,3,[4,56.67],[[[[[True,6,(1,23)],[8,\"string\",0]]]]]]"
   ]
  },
  {
   "cell_type": "code",
   "execution_count": 81,
   "id": "4ffa4eb2",
   "metadata": {},
   "outputs": [
    {
     "data": {
      "text/plain": [
       "[1, 2, 3, 4, 56.67, True, 6, (1, 23), 8, 'string', 0]"
      ]
     },
     "execution_count": 81,
     "metadata": {},
     "output_type": "execute_result"
    }
   ],
   "source": [
    "flatten_list(a)"
   ]
  },
  {
   "cell_type": "code",
   "execution_count": 82,
   "id": "6227e692",
   "metadata": {},
   "outputs": [],
   "source": [
    "# list can only contain single digit numbers"
   ]
  },
  {
   "cell_type": "code",
   "execution_count": 95,
   "id": "19bb9a7a",
   "metadata": {},
   "outputs": [],
   "source": [
    "def flatten_list_simple(a):\n",
    "    str_a = str(a)\n",
    "    \n",
    "    result = []\n",
    "    \n",
    "    for i in str(a):\n",
    "        if i.isdigit():\n",
    "            result.append(int(i))\n",
    "    \n",
    "    return result"
   ]
  },
  {
   "cell_type": "code",
   "execution_count": 96,
   "id": "ef14500d",
   "metadata": {},
   "outputs": [],
   "source": [
    "a = [1,2,3,[4,5],[[[[[5,6,7],[8,9,0]]]]]]\n",
    "result = flatten_list_simple(a)"
   ]
  },
  {
   "cell_type": "code",
   "execution_count": 97,
   "id": "e9a74c80",
   "metadata": {},
   "outputs": [
    {
     "data": {
      "text/plain": [
       "[1, 2, 3, 4, 5, 5, 6, 7, 8, 9, 0]"
      ]
     },
     "execution_count": 97,
     "metadata": {},
     "output_type": "execute_result"
    }
   ],
   "source": [
    "result"
   ]
  },
  {
   "cell_type": "code",
   "execution_count": 98,
   "id": "5321692f",
   "metadata": {},
   "outputs": [
    {
     "data": {
      "text/plain": [
       "'\\nQuestion 8 -\\nPrint multiplication till 10 using only 1 line of python.\\n'"
      ]
     },
     "execution_count": 98,
     "metadata": {},
     "output_type": "execute_result"
    }
   ],
   "source": [
    "'''\n",
    "Question 8 -\n",
    "Print multiplication till 10 using only 1 line of python.\n",
    "'''"
   ]
  },
  {
   "cell_type": "code",
   "execution_count": 99,
   "id": "90f5738a",
   "metadata": {},
   "outputs": [
    {
     "data": {
      "text/plain": [
       "'\\n1 2 3 4 5 6 7 8 9 1 0\\n2 4 6 8 10 12 14 16 18 20\\n....\\n10 20 30 40 50 60 70 80 90 100\\n'"
      ]
     },
     "execution_count": 99,
     "metadata": {},
     "output_type": "execute_result"
    }
   ],
   "source": [
    "'''\n",
    "1 2 3 4 5 6 7 8 9 1 0\n",
    "2 4 6 8 10 12 14 16 18 20\n",
    "....\n",
    "10 20 30 40 50 60 70 80 90 100\n",
    "'''"
   ]
  },
  {
   "cell_type": "code",
   "execution_count": 104,
   "id": "49fead60",
   "metadata": {},
   "outputs": [
    {
     "ename": "TypeError",
     "evalue": "sequence item 0: expected str instance, int found",
     "output_type": "error",
     "traceback": [
      "\u001b[0;31m---------------------------------------------------------------------------\u001b[0m",
      "\u001b[0;31mTypeError\u001b[0m                                 Traceback (most recent call last)",
      "\u001b[0;32m/var/folders/nn/c52y0d3j0gq59dpsswchkt2r0000gn/T/ipykernel_23963/185932410.py\u001b[0m in \u001b[0;36m<module>\u001b[0;34m\u001b[0m\n\u001b[0;32m----> 1\u001b[0;31m \u001b[0;34m\" \"\u001b[0m\u001b[0;34m.\u001b[0m\u001b[0mjoin\u001b[0m\u001b[0;34m(\u001b[0m\u001b[0;34m[\u001b[0m \u001b[0mj\u001b[0m \u001b[0;32mfor\u001b[0m \u001b[0mj\u001b[0m \u001b[0;32min\u001b[0m \u001b[0mrange\u001b[0m\u001b[0;34m(\u001b[0m\u001b[0;36m1\u001b[0m\u001b[0;34m,\u001b[0m\u001b[0;36m11\u001b[0m\u001b[0;34m)\u001b[0m \u001b[0;34m]\u001b[0m\u001b[0;34m)\u001b[0m\u001b[0;34m\u001b[0m\u001b[0;34m\u001b[0m\u001b[0m\n\u001b[0m",
      "\u001b[0;31mTypeError\u001b[0m: sequence item 0: expected str instance, int found"
     ]
    }
   ],
   "source": [
    "\" \".join([ j for j in range(1,11) ])"
   ]
  },
  {
   "cell_type": "code",
   "execution_count": 107,
   "id": "cefa9851",
   "metadata": {
    "scrolled": true
   },
   "outputs": [
    {
     "data": {
      "text/plain": [
       "['1 2 3 4 5 6 7 8 9 10',\n",
       " '2 4 6 8 10 12 14 16 18 20',\n",
       " '3 6 9 12 15 18 21 24 27 30',\n",
       " '4 8 12 16 20 24 28 32 36 40',\n",
       " '5 10 15 20 25 30 35 40 45 50',\n",
       " '6 12 18 24 30 36 42 48 54 60',\n",
       " '7 14 21 28 35 42 49 56 63 70',\n",
       " '8 16 24 32 40 48 56 64 72 80',\n",
       " '9 18 27 36 45 54 63 72 81 90',\n",
       " '10 20 30 40 50 60 70 80 90 100']"
      ]
     },
     "execution_count": 107,
     "metadata": {},
     "output_type": "execute_result"
    }
   ],
   "source": [
    "[ \" \".join([ str(i*j) for j in range(1,11) ]) for i in range(1,11) ]"
   ]
  },
  {
   "cell_type": "code",
   "execution_count": 109,
   "id": "46f2c28f",
   "metadata": {},
   "outputs": [
    {
     "data": {
      "text/plain": [
       "'\\nQuestion 10 - \\nWrite a function to merge two sorted lists in sorted order -\\na = [2,4,6,8,9]\\nb = [1,3,5,9]\\nRESULT = [1,2,3,4,5,6,8,9,9]\\n\\nNO INTERNAL SORTING FUNCTIONS CAN BE USED. :)\\n'"
      ]
     },
     "execution_count": 109,
     "metadata": {},
     "output_type": "execute_result"
    }
   ],
   "source": [
    "# HOMEWORK\n",
    "'''\n",
    "Question 9 - \n",
    "1. Take a string as input.\n",
    "2. Create a dictionary acc to the following criteria - \n",
    "- There will be one key value pair for each unique character - \n",
    "- Key will be character and value will be the count of character inside the list\n",
    "\n",
    "INPUT - \"rrsssstttt\"\n",
    "OUTPUT -\n",
    "{\n",
    "    \"r\": 2,\n",
    "    \"s\": 4,\n",
    "    \"t\": 4\n",
    "}\n",
    "'''\n",
    "\n",
    "\n",
    "'''\n",
    "Question 10 - \n",
    "Write a function to merge two sorted lists in sorted order -\n",
    "a = [2,4,6,8,9]\n",
    "b = [1,3,5,9]\n",
    "RESULT = [1,2,3,4,5,6,8,9,9]\n",
    "\n",
    "NO INTERNAL SORTING FUNCTIONS CAN BE USED. :)\n",
    "'''"
   ]
  },
  {
   "cell_type": "code",
   "execution_count": 110,
   "id": "91c000af",
   "metadata": {},
   "outputs": [],
   "source": [
    "a = 34898743234567898765434567898765432456789098765432"
   ]
  },
  {
   "cell_type": "code",
   "execution_count": 111,
   "id": "cdb0ed9e",
   "metadata": {},
   "outputs": [
    {
     "data": {
      "text/plain": [
       "34898743234567898765434567898765432456789098765432"
      ]
     },
     "execution_count": 111,
     "metadata": {},
     "output_type": "execute_result"
    }
   ],
   "source": [
    "a"
   ]
  },
  {
   "cell_type": "code",
   "execution_count": null,
   "id": "d23efbd5",
   "metadata": {},
   "outputs": [],
   "source": []
  }
 ],
 "metadata": {
  "kernelspec": {
   "display_name": "Python 3 (ipykernel)",
   "language": "python",
   "name": "python3"
  },
  "language_info": {
   "codemirror_mode": {
    "name": "ipython",
    "version": 3
   },
   "file_extension": ".py",
   "mimetype": "text/x-python",
   "name": "python",
   "nbconvert_exporter": "python",
   "pygments_lexer": "ipython3",
   "version": "3.9.5"
  }
 },
 "nbformat": 4,
 "nbformat_minor": 5
}
